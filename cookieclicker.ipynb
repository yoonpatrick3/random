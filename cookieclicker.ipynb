{
 "cells": [
  {
   "cell_type": "code",
   "execution_count": 59,
   "metadata": {},
   "outputs": [],
   "source": [
    "from selenium import webdriver\n",
    "from selenium.webdriver.support.ui import Select\n",
    "from selenium.webdriver.support.ui import WebDriverWait\n",
    "import time\n",
    "\n",
    "PATH_TO_CHROMEDRIVER = \"C:/Users/12244/yoonp/independentCS/kpop/chromedriver.exe\"\n",
    "driver = webdriver.Chrome(PATH_TO_CHROMEDRIVER)\n",
    "\n",
    "driver.get(\"https://orteil.dashnet.org/cookieclicker/\")\n",
    "driver.maximize_window()\n",
    "\n",
    "XPATH_TO_COOKIE = \"//div[@id='wrapper']//div[@id='game']//div[@id='sectionLeft']//div[@id='cookieAnchor']//div[@id='bigCookie']\"\n",
    "cookie = driver.find_element_by_xpath(XPATH_TO_COOKIE)\n",
    "\n",
    "xpath_to_cursor = \"//div[@id='wrapper']//div[@id='game']//div[@id='sectionRight']//div[@id='store']//div[@id='products']//div[contains(@class, 'product unlocked enabled')]\"\n",
    "xpath_to_cursor2 = \"//div[@id='wrapper']//div[@id='game']//div[@id='sectionRight']//div[@id='store']//div[@id='products']//div[contains(@class, 'product locked disabled')]\"\n",
    "price_path = \"//div[contains(@class, 'content')]//div[@id='productPrice0']\""
   ]
  },
  {
   "cell_type": "code",
   "execution_count": 58,
   "metadata": {},
   "outputs": [
    {
     "ename": "ValueError",
     "evalue": "invalid literal for int() with base 10: '1,100'",
     "output_type": "error",
     "traceback": [
      "\u001b[1;31m---------------------------------------------------------------------------\u001b[0m",
      "\u001b[1;31mValueError\u001b[0m                                Traceback (most recent call last)",
      "\u001b[1;32m<ipython-input-58-38f6f149afe9>\u001b[0m in \u001b[0;36m<module>\u001b[1;34m\u001b[0m\n\u001b[0;32m      9\u001b[0m         \u001b[0mfirstTime\u001b[0m \u001b[1;33m=\u001b[0m \u001b[1;32mFalse\u001b[0m\u001b[1;33m\u001b[0m\u001b[1;33m\u001b[0m\u001b[0m\n\u001b[0;32m     10\u001b[0m     \u001b[1;32melse\u001b[0m\u001b[1;33m:\u001b[0m\u001b[1;33m\u001b[0m\u001b[1;33m\u001b[0m\u001b[0m\n\u001b[1;32m---> 11\u001b[1;33m         \u001b[0mcursor_price\u001b[0m \u001b[1;33m=\u001b[0m \u001b[0mint\u001b[0m\u001b[1;33m(\u001b[0m\u001b[0mdriver\u001b[0m\u001b[1;33m.\u001b[0m\u001b[0mfind_element_by_xpath\u001b[0m\u001b[1;33m(\u001b[0m\u001b[0mxpath_to_cursor2\u001b[0m \u001b[1;33m+\u001b[0m \u001b[1;34m\"//div[contains(@class, 'content')]\"\u001b[0m\u001b[1;33m)\u001b[0m\u001b[1;33m.\u001b[0m\u001b[0mtext\u001b[0m\u001b[1;33m[\u001b[0m\u001b[1;36m4\u001b[0m\u001b[1;33m:\u001b[0m\u001b[1;33m]\u001b[0m\u001b[1;33m)\u001b[0m\u001b[1;33m\u001b[0m\u001b[1;33m\u001b[0m\u001b[0m\n\u001b[0m\u001b[0;32m     12\u001b[0m     \u001b[1;32mif\u001b[0m \u001b[0mnum\u001b[0m \u001b[1;33m>\u001b[0m \u001b[0mcursor_price\u001b[0m\u001b[1;33m:\u001b[0m\u001b[1;33m\u001b[0m\u001b[1;33m\u001b[0m\u001b[0m\n\u001b[0;32m     13\u001b[0m         \u001b[0mcursor\u001b[0m \u001b[1;33m=\u001b[0m \u001b[0mdriver\u001b[0m\u001b[1;33m.\u001b[0m\u001b[0mfind_element_by_xpath\u001b[0m\u001b[1;33m(\u001b[0m\u001b[0mxpath_to_cursor\u001b[0m\u001b[1;33m)\u001b[0m\u001b[1;33m\u001b[0m\u001b[1;33m\u001b[0m\u001b[0m\n",
      "\u001b[1;31mValueError\u001b[0m: invalid literal for int() with base 10: '1,100'"
     ]
    }
   ],
   "source": [
    "firstTime = True\n",
    "\n",
    "while True:\n",
    "    cookie.click()\n",
    "    cookie.click()\n",
    "    cookie.click()\n",
    "    cookie.click()\n",
    "    num_cookies = driver.find_element_by_xpath(\"//div[@id='cookies']\")\n",
    "    num = int(num_cookies.text.split(\" \")[0])\n",
    "    if num < 15 and firstTime:\n",
    "        cursor_price = int(driver.find_element_by_xpath(xpath_to_cursor2 + \"//div[contains(@class, 'content')]\").text[4:])\n",
    "        firstTime = False\n",
    "    else:\n",
    "        cursor_price = int(driver.find_element_by_xpath(xpath_to_cursor2 + \"//div[contains(@class, 'content')]\").text[4:])\n",
    "    if num > cursor_price:\n",
    "        cursor = driver.find_element_by_xpath(xpath_to_cursor)\n",
    "        cursor.click()"
   ]
  },
  {
   "cell_type": "code",
   "execution_count": 56,
   "metadata": {},
   "outputs": [
    {
     "data": {
      "text/plain": [
       "57"
      ]
     },
     "execution_count": 56,
     "metadata": {},
     "output_type": "execute_result"
    }
   ],
   "source": [
    "num"
   ]
  },
  {
   "cell_type": "raw",
   "metadata": {},
   "source": [
    "cursor_price"
   ]
  },
  {
   "cell_type": "code",
   "execution_count": 57,
   "metadata": {},
   "outputs": [
    {
     "data": {
      "text/plain": [
       "100"
      ]
     },
     "execution_count": 57,
     "metadata": {},
     "output_type": "execute_result"
    }
   ],
   "source": [
    "cursor_price"
   ]
  },
  {
   "cell_type": "code",
   "execution_count": null,
   "metadata": {},
   "outputs": [],
   "source": []
  }
 ],
 "metadata": {
  "kernelspec": {
   "display_name": "Python 3",
   "language": "python",
   "name": "python3"
  },
  "language_info": {
   "codemirror_mode": {
    "name": "ipython",
    "version": 3
   },
   "file_extension": ".py",
   "mimetype": "text/x-python",
   "name": "python",
   "nbconvert_exporter": "python",
   "pygments_lexer": "ipython3",
   "version": "3.7.3"
  }
 },
 "nbformat": 4,
 "nbformat_minor": 4
}
