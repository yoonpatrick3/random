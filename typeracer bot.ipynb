{
 "cells": [
  {
   "cell_type": "code",
   "execution_count": null,
   "metadata": {},
   "outputs": [],
   "source": [
    "from selenium import webdriver\n",
    "from selenium.webdriver.support.ui import Select\n",
    "from selenium.webdriver.support.ui import WebDriverWait\n",
    "import time\n",
    "\n",
    "PATH_TO_CHROMEDRIVER = \"C:/Users/12244/yoonp/independentCS/kpop/chromedriver.exe\"\n",
    "PATH_TO_CHROME = \"C:/Program Files (x86)/Google/Chrome/Application/chrome.exe\"\n",
    "driver = webdriver.Chrome(PATH_TO_CHROMEDRIVER)\n",
    "\n",
    "driver.get(\"https://typeracer.com\")\n",
    "driver.maximize_window()\n",
    "\n",
    "driver.implicitly_wait(10)\n",
    "\n",
    "#opens page and finds \"practice\" page or \"real\"\n",
    "XPATH_LINK_1 = \"//div[contains(@class, 'container')]//div[contains(@class, 'main')]//div[contains(@class, 'themeContent')]//div[@id='dUI']//table//tbody//tr[2]//td[2]//div[contains(@class, 'mainViewportHolder')]//div[contains(@class, 'mainViewport')]\"\n",
    "XPATH_LINK_2 = \"//div[contains(@class, 'mainMenu')]//table//tbody//tr[3]//td//table//tbody//tr//td[2]//table//tbody//tr//td//a\"\n",
    "XPATH_REAL_2 = \"//div[contains(@class, 'mainMenu')]//table//tbody//tr[2]//td//table//tbody//tr//td[2]//table//tbody//tr//td//a\"\n",
    "XPATH_LINK= XPATH_LINK_1 + XPATH_LINK_2\n",
    "#//a[contains(@class, 'gwt-Anchor')]\"\n",
    "div_to_link = driver.find_element_by_xpath(XPATH_LINK)\n",
    "\n",
    "#Clicks link\n",
    "div_to_link.click()\n",
    "time.sleep(5)\n",
    "\n",
    "#finds words\n",
    "XPATH_TYPE_1 = \"//div[contains(@class, 'container')]//div[contains(@class, 'main')]//div[contains(@class, 'themeContent')]//div[@id='dUI']\"\n",
    "XPATH_TYPE_2 = \"//table//tbody//tr[2]//td[2]//div[contains(@class, 'mainViewportHolder')]//div[contains(@class, 'mainViewport')]//table//tbody//tr[3]//td\"\n",
    "#XPATH_TYPE_3 = \"//div[contains(@class, 'roomSection')]//div//table//tbody//tr[2]//td[@id='gwt-uid-15']\"\n",
    "XPATH_TYPE_4 = \"//table//tbody//tr[2]\"\n",
    "XPATH_TYPE_5 = \"//td//table//tbody//tr[1]//td//table//tbody//tr[1]//td//div//div//span[1]\"\n",
    "XPATH_TYPE = XPATH_TYPE_1 + XPATH_TYPE_2 + XPATH_TYPE_4\n",
    "div_to_type = driver.find_element_by_xpath(XPATH_TYPE)\n",
    "\n",
    "text = div_to_type.text.split(\"\\n\")\n",
    "words = text[5].split(\" \")\n",
    "\n",
    "XPATH_6 = \"//td//table//tbody//tr[2]//td//input\"\n",
    "XPATH_TYPE_V2 = XPATH_TYPE_1 + XPATH_TYPE_2 + XPATH_TYPE_4 + XPATH_6\n",
    "type_element = driver.find_element_by_xpath(XPATH_TYPE_V2)\n",
    "\n",
    "#types\n",
    "for word in words:\n",
    "    type_element.send_keys(word + \" \")"
   ]
  },
  {
   "cell_type": "code",
   "execution_count": null,
   "metadata": {},
   "outputs": [],
   "source": []
  }
 ],
 "metadata": {
  "kernelspec": {
   "display_name": "Python 3",
   "language": "python",
   "name": "python3"
  },
  "language_info": {
   "codemirror_mode": {
    "name": "ipython",
    "version": 3
   },
   "file_extension": ".py",
   "mimetype": "text/x-python",
   "name": "python",
   "nbconvert_exporter": "python",
   "pygments_lexer": "ipython3",
   "version": "3.7.3"
  }
 },
 "nbformat": 4,
 "nbformat_minor": 4
}
